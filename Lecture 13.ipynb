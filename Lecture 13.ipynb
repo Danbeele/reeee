{
 "cells": [
  {
   "cell_type": "markdown",
   "metadata": {},
   "source": [
    "# Lecture 13\n",
    "\n",
    "### `while` Loops; Anything `for` Can Do `while` Can Do; Input Validation and Exceptions; Indefinite Streams of Entry and Sentinels; Flag-Controlled Loops, and Guess-the-Number"
   ]
  },
  {
   "cell_type": "markdown",
   "metadata": {},
   "source": [
    "# 1. `while` Loops\n",
    "\n",
    "\n",
    "#### * **Definite loops** repeat a fixed number of times: once for every element in a list or range, where list is fixed before you initiate the loop.\n",
    "\n",
    "#### * Some loops are **indefinite** -- you don't know how many iterations until right before loop ceases to repeat.\n",
    "\n"
   ]
  },
  {
   "cell_type": "code",
   "execution_count": 2,
   "metadata": {},
   "outputs": [
    {
     "name": "stdout",
     "output_type": "stream",
     "text": [
      "Guess the password: Hamburger\n",
      "Took you long enough: 1 guesses.\n"
     ]
    }
   ],
   "source": [
    "# EXAMPLE 1a: Password\n",
    "\n",
    "correct_password = 'Hamburger'\n",
    "\n",
    "user_guess = input('Guess the password: ')\n",
    "\n",
    "number_of_guesses = 1\n",
    "\n",
    "while user_guess != correct_password:\n",
    "    print('Wrong!')\n",
    "    user_guess = input('Guess again: ')\n",
    "    number_of_guesses += 1\n",
    "    \n",
    "print(f'Took you long enough: {number_of_guesses} guesses.')\n"
   ]
  },
  {
   "cell_type": "markdown",
   "metadata": {},
   "source": [
    "#### * For indefinite loops like this, `while` loops are useful.\n",
    "\n",
    "<br><br><br><br><br>\n",
    "<br><br><br><br><br>"
   ]
  },
  {
   "cell_type": "code",
   "execution_count": null,
   "metadata": {},
   "outputs": [],
   "source": [
    "WHILE LOOP SYNTAX:\n",
    "    \n",
    "\"... previous statements ...\"\n",
    "while <logical expression>:\n",
    "    <body, indented>\n",
    "\"... further statements, unindented...\"\n",
    "\n",
    "    \n"
   ]
  },
  {
   "cell_type": "markdown",
   "metadata": {},
   "source": [
    "\n",
    "#### * First, `<logical expression>` will evaluate.\n",
    "\n",
    "#### * If it evaluates to `True`, `<body>` will execute.\n",
    "\n",
    "#### * Once that is finished, `<logical expression>` will evaluate again...\n",
    "\n",
    "#### * ...and if it is `True`, `<body>` will execute again, with all pertinent variables using their latest values.\n",
    "\n",
    "#### * And so on until `<logical expression>` evaluates to `False`.  At this point, statements after the `<body>` are executed.\n",
    "\n",
    "#### * Flowchart:\n",
    "\n",
    "![IMAGE NOT FOUND!!!!!!!!!!](whileflow.png)\n",
    "\n",
    "<br><br><br><br><br>\n",
    "<br><br><br><br><br>"
   ]
  },
  {
   "cell_type": "code",
   "execution_count": 3,
   "metadata": {},
   "outputs": [
    {
     "name": "stdout",
     "output_type": "stream",
     "text": [
      "5 4\n",
      "9 2\n",
      "2\n"
     ]
    }
   ],
   "source": [
    "# EXAMPLE 1b: Walkthrough\n",
    "# Can you follow what is happening here?\n",
    "# Once you know, taking away the quotations at the front.\n",
    "\n",
    "x = 3\n",
    "y = 2\n",
    "\n",
    "\n",
    "while x <  3 * y:\n",
    "    x += y\n",
    "    if x < 10:\n",
    "        y = 6 - y\n",
    "    print(x,y)\n",
    "    \n",
    "print(y)\n"
   ]
  },
  {
   "cell_type": "markdown",
   "metadata": {},
   "source": [
    "\n",
    "x=3  \n",
    "y=2  \n",
    "3<6?  \n",
    "x=3+2=5  \n",
    "5<10?t  \n",
    "y=6-2=4  \n",
    "print(5,4)  \n",
    "5<12?t  \n",
    "x=5+4=9  \n",
    "x<10?t  \n",
    "y=6-4=2  \n",
    "print(9,2)  \n",
    "9<4?f  \n",
    "print(2)  \n",
    "\n",
    "<br><br><br><br><br>\n",
    "\n",
    "\n",
    "# 2. Anything `for` Can Do, `while` Can Do ~~Better~~ Worse"
   ]
  },
  {
   "cell_type": "markdown",
   "metadata": {},
   "source": [
    "#### * `while` loops are more general than `for` loops.\n",
    "\n",
    "#### * Here's a problem that doesn't need a `while` loop, but we'll do it with one anyway."
   ]
  },
  {
   "cell_type": "code",
   "execution_count": null,
   "metadata": {},
   "outputs": [],
   "source": [
    "# EXAMPLE 2a: 99 Bottles\n",
    "# What does this code do?  What should it do?  Can you fix it, still using a while loop?\n",
    "\n",
    "var = 99\n",
    "\n",
    "while var >= 0:\n",
    "    print(f'{var} bottles of beer on the wall, {var} bottles of beer')\n",
    "    print(f'If one of those bottles should happen to fall, {var-1} bottles of beer on the wall')\n",
    "    var = var - 1\n"
   ]
  },
  {
   "cell_type": "markdown",
   "metadata": {},
   "source": [
    "<br><br><br><br><br>\n",
    "<br><br><br><br><br>\n",
    "\n",
    "#### * Every `for` can be converted to a `while`:\n",
    "\n",
    "#### --- Initialize `loop_count` to be `0` or `1`\n",
    "\n",
    "#### --- Write a line like `while loop_count < len(list_name):`, or `while loop_count <=  <number of times>:`\n",
    "\n",
    "#### --- At the end of the body of the loop, insert a line incrementing `loop_count`, like `loop_count += 1`\n",
    "\n",
    "#### DON'T DO THIS! (Unless specifically asked to.  Which I will, because reasons.)\n",
    "\n",
    "<br><br><br><br><br>\n",
    "<br><br><br><br><br>\n",
    "\n",
    "#### * Example: compute 100 terms of $ e^3 + e^5 + e^7 + e^9 + e^{11} + \\ldots$\n"
   ]
  },
  {
   "cell_type": "code",
   "execution_count": 4,
   "metadata": {},
   "outputs": [
    {
     "name": "stdout",
     "output_type": "stream",
     "text": [
      "2.271658922355796e+87\n",
      "2.271658922355796e+87\n"
     ]
    }
   ],
   "source": [
    "# EXAMPLE 2b: 100 terms of e^3 + e^5 + e^7 + e^9 + e^11 + ...\n",
    "import math\n",
    "\n",
    "# FOR loop:\n",
    "rs = 0\n",
    "for n in range(1,101):\n",
    "    rs += math.exp(2*n + 1)\n",
    "print(rs)\n",
    "\n",
    "# WHILE loop:\n",
    "rs = 0\n",
    "n = 1\n",
    "while n <= 100:\n",
    "    rs += math.exp(2*n + 1)\n",
    "    n += 1\n",
    "print(rs)\n",
    "\n",
    "\n"
   ]
  },
  {
   "cell_type": "markdown",
   "metadata": {},
   "source": [
    "<br><br><br><br><br><br><br><br><br><br>\n",
    "\n",
    "# 3. Input Validation, and an Intro to Exceptions\n",
    "\n",
    "#### * Can use `while` loops to check if input is valid."
   ]
  },
  {
   "cell_type": "code",
   "execution_count": null,
   "metadata": {},
   "outputs": [],
   "source": [
    "# EXAMPLE 3a: Input Validation\n",
    "\n",
    "user_entry = float(input('Enter a score between 0 and 100: '))\n",
    "\n",
    "# Get the first attempt OUTSIDE of the loop, so that you have something to check the first time you approach \n",
    "# the while loop.\n",
    "while 0 > user_entry or user_entry > 100:\n",
    "    user_entry = float(input('Enter a score between 0 and 100: '))\n",
    "\n",
    "print(user_entry)"
   ]
  },
  {
   "cell_type": "markdown",
   "metadata": {},
   "source": [
    "#### * How about checking if the input is even a valid number?\n",
    "\n",
    "\n",
    "#### * Code above doesn't work: \n",
    "\n",
    "`user_entry = float(input(\"Enter a score between 0 and 100: \"))`\n",
    "\n",
    "#### will cause a run-time error if user inputs, e.g., letters.\n",
    "\n",
    "<br><br><br><br><br>\n",
    "<br><br><br><br><br>\n",
    "\n",
    "\n",
    "#### * What about this?"
   ]
  },
  {
   "cell_type": "code",
   "execution_count": null,
   "metadata": {},
   "outputs": [],
   "source": [
    "# EXAMPLE 3b: A Simple Way To Check For Numbers That Does Not Work\n",
    "\n",
    "user_entry = input('Enter a number: ')\n",
    "\n",
    "if type(user_entry) == float:\n",
    "    print('Great, it\\'s a float!')\n",
    "else:\n",
    "    print('I guess it\\'s not a float :(')\n",
    "    print(type(user_entry))"
   ]
  },
  {
   "cell_type": "markdown",
   "metadata": {},
   "source": [
    "#### * Nope.  If I input `1.23`, then `user_entry` will still be a `str`.\n",
    "\n",
    "#### * I only *check* if `user_entry` is a float -- I never *convert* it to a float.  \n",
    "\n",
    "#### * The real question is *not* \"is `user_entry` a `float`?\"\n",
    "\n",
    "#### * It's: \"can `user_entry` be converted to a `float` without an error?\"\n",
    "\n",
    "<br><br><br><br><br>\n",
    "<br><br><br><br><br>\n",
    "\n",
    "\n",
    "#### * Exception handling can deal with this."
   ]
  },
  {
   "cell_type": "code",
   "execution_count": 10,
   "metadata": {},
   "outputs": [
    {
     "name": "stdout",
     "output_type": "stream",
     "text": [
      "Enter a number: 0\n",
      "float division by zero\n"
     ]
    },
    {
     "ename": "KeyboardInterrupt",
     "evalue": "Interrupted by user",
     "output_type": "error",
     "traceback": [
      "\u001b[1;31m---------------------------------------------------------------------------\u001b[0m",
      "\u001b[1;31mKeyboardInterrupt\u001b[0m                         Traceback (most recent call last)",
      "Cell \u001b[1;32mIn[10], line 6\u001b[0m\n\u001b[0;32m      3\u001b[0m valid \u001b[38;5;241m=\u001b[39m \u001b[38;5;28;01mFalse\u001b[39;00m\n\u001b[0;32m      5\u001b[0m \u001b[38;5;28;01mwhile\u001b[39;00m valid \u001b[38;5;241m==\u001b[39m \u001b[38;5;28;01mFalse\u001b[39;00m:\n\u001b[1;32m----> 6\u001b[0m     user_entry \u001b[38;5;241m=\u001b[39m \u001b[38;5;28minput\u001b[39m(\u001b[38;5;124m'\u001b[39m\u001b[38;5;124mEnter a number: \u001b[39m\u001b[38;5;124m'\u001b[39m)\n\u001b[0;32m      7\u001b[0m     \u001b[38;5;28;01mtry\u001b[39;00m:\n\u001b[0;32m      8\u001b[0m         user_entry \u001b[38;5;241m=\u001b[39m \u001b[38;5;28mfloat\u001b[39m(user_entry)\n",
      "File \u001b[1;32m~\\anaconda3\\Lib\\site-packages\\ipykernel\\kernelbase.py:1202\u001b[0m, in \u001b[0;36mKernel.raw_input\u001b[1;34m(self, prompt)\u001b[0m\n\u001b[0;32m   1200\u001b[0m     msg \u001b[38;5;241m=\u001b[39m \u001b[38;5;124m\"\u001b[39m\u001b[38;5;124mraw_input was called, but this frontend does not support input requests.\u001b[39m\u001b[38;5;124m\"\u001b[39m\n\u001b[0;32m   1201\u001b[0m     \u001b[38;5;28;01mraise\u001b[39;00m StdinNotImplementedError(msg)\n\u001b[1;32m-> 1202\u001b[0m \u001b[38;5;28;01mreturn\u001b[39;00m \u001b[38;5;28mself\u001b[39m\u001b[38;5;241m.\u001b[39m_input_request(\n\u001b[0;32m   1203\u001b[0m     \u001b[38;5;28mstr\u001b[39m(prompt),\n\u001b[0;32m   1204\u001b[0m     \u001b[38;5;28mself\u001b[39m\u001b[38;5;241m.\u001b[39m_parent_ident[\u001b[38;5;124m\"\u001b[39m\u001b[38;5;124mshell\u001b[39m\u001b[38;5;124m\"\u001b[39m],\n\u001b[0;32m   1205\u001b[0m     \u001b[38;5;28mself\u001b[39m\u001b[38;5;241m.\u001b[39mget_parent(\u001b[38;5;124m\"\u001b[39m\u001b[38;5;124mshell\u001b[39m\u001b[38;5;124m\"\u001b[39m),\n\u001b[0;32m   1206\u001b[0m     password\u001b[38;5;241m=\u001b[39m\u001b[38;5;28;01mFalse\u001b[39;00m,\n\u001b[0;32m   1207\u001b[0m )\n",
      "File \u001b[1;32m~\\anaconda3\\Lib\\site-packages\\ipykernel\\kernelbase.py:1245\u001b[0m, in \u001b[0;36mKernel._input_request\u001b[1;34m(self, prompt, ident, parent, password)\u001b[0m\n\u001b[0;32m   1242\u001b[0m \u001b[38;5;28;01mexcept\u001b[39;00m \u001b[38;5;167;01mKeyboardInterrupt\u001b[39;00m:\n\u001b[0;32m   1243\u001b[0m     \u001b[38;5;66;03m# re-raise KeyboardInterrupt, to truncate traceback\u001b[39;00m\n\u001b[0;32m   1244\u001b[0m     msg \u001b[38;5;241m=\u001b[39m \u001b[38;5;124m\"\u001b[39m\u001b[38;5;124mInterrupted by user\u001b[39m\u001b[38;5;124m\"\u001b[39m\n\u001b[1;32m-> 1245\u001b[0m     \u001b[38;5;28;01mraise\u001b[39;00m \u001b[38;5;167;01mKeyboardInterrupt\u001b[39;00m(msg) \u001b[38;5;28;01mfrom\u001b[39;00m \u001b[38;5;28;01mNone\u001b[39;00m\n\u001b[0;32m   1246\u001b[0m \u001b[38;5;28;01mexcept\u001b[39;00m \u001b[38;5;167;01mException\u001b[39;00m:\n\u001b[0;32m   1247\u001b[0m     \u001b[38;5;28mself\u001b[39m\u001b[38;5;241m.\u001b[39mlog\u001b[38;5;241m.\u001b[39mwarning(\u001b[38;5;124m\"\u001b[39m\u001b[38;5;124mInvalid Message:\u001b[39m\u001b[38;5;124m\"\u001b[39m, exc_info\u001b[38;5;241m=\u001b[39m\u001b[38;5;28;01mTrue\u001b[39;00m)\n",
      "\u001b[1;31mKeyboardInterrupt\u001b[0m: Interrupted by user"
     ]
    }
   ],
   "source": [
    "# EXAMPLE 3c: Input Validation, Part 2\n",
    "\n",
    "valid = False\n",
    "\n",
    "while valid == False:\n",
    "    user_entry = input('Enter a number: ')\n",
    "    try:\n",
    "        user_entry = float(user_entry)\n",
    "        user_entry = 1/user_entry\n",
    "        valid = True\n",
    "    except Exception as e:\n",
    "        print(e)    \n",
    "        \n",
    "\n",
    "print(user_entry)"
   ]
  },
  {
   "cell_type": "markdown",
   "metadata": {},
   "source": [
    "#### * `try` and `except` go together, kind of like `if` and `else` (but `except` isn't optional).  \n",
    "\n",
    "#### * How they work:\n",
    "\n",
    "#### --- the code in the `try` block attempts to execute;\n",
    "\n",
    "#### --- if this block executes successfully, the `except` block is ignored;\n",
    "\n",
    "#### --- if there is any type of runtime error encountered in the `try` block, then instead of execution stopping, Python will move to the `except` block; if the error is of the appropriate type, it executes that code instead.\n",
    "\n",
    "\n",
    "#### * `try` and `except` are meant for rescuing code that is prone to errors caused by bad input."
   ]
  },
  {
   "cell_type": "markdown",
   "metadata": {},
   "source": [
    "<br><br><br><br><br>\n",
    "<br><br><br><br><br>"
   ]
  },
  {
   "cell_type": "markdown",
   "metadata": {},
   "source": [
    "\n",
    "\n",
    "# 4. Indefinite Streams of Entry and Sentinels\n",
    "\n",
    "#### * To allow user to enter an unknown amount of data, can use a sentinel.\n",
    "\n",
    "#### * A **sentinel** is a special value that can be entered, which is interpreted not as data, but as a stop signal.\n",
    "\n",
    "#### * In the next example, `DONE` is the sentinel."
   ]
  },
  {
   "cell_type": "code",
   "execution_count": null,
   "metadata": {},
   "outputs": [],
   "source": [
    "# EXAMPLE 4a: Saving many numbers, with a sentinel.\n",
    "\n",
    "print('Input integers until you are bored.')  \n",
    "print('When you are finished, enter DONE.')\n",
    "print('I\\'ll use the max function to find the max value.')\n",
    "\n",
    "number_list = []\n",
    "\n",
    "entry = input('Gimme a number: ')  # Why ask for a number outside of the loop?\n",
    "\n",
    "while entry != 'DONE':\n",
    "    entry = int(entry)\n",
    "    number_list.append(entry)\n",
    "    entry = input('Gimme a number: ')\n",
    "    \n",
    "print(max(number_list))  "
   ]
  },
  {
   "cell_type": "markdown",
   "metadata": {},
   "source": [
    "\n",
    "<br><br><br><br><br>\n",
    "<br><br><br><br><br>\n"
   ]
  },
  {
   "cell_type": "markdown",
   "metadata": {},
   "source": [
    "# 5. Flag-Controlled Loops, and Guess-the-Number\n",
    "\n",
    "#### * Recall: a *flag* is a `bool` variable.\n",
    "\n",
    "#### * Sometimes, easiest way to control a loop is using a flag, like:\n",
    "\n",
    "`while keep_going == True:`\n",
    "\n",
    "#### * In that case, `keep_going` would probably start out `True`, and then change to `False` when it is time to stop.\n"
   ]
  },
  {
   "cell_type": "code",
   "execution_count": 11,
   "metadata": {},
   "outputs": [
    {
     "name": "stdout",
     "output_type": "stream",
     "text": [
      "I'm thinking of a number between 1 and 100! Can you guess it?\n",
      "Enter a guess: 50\n",
      "Too high!\n",
      "Enter a guess: 25\n",
      "Too high!\n",
      "Enter a guess: 12\n",
      "Too low!\n",
      "Enter a guess: 20\n",
      "Too low!\n",
      "Enter a guess: 22\n",
      "Too low!\n",
      "Enter a guess: 26\n",
      "Too high!\n",
      "Enter a guess: 24\n",
      "You got it!\n"
     ]
    }
   ],
   "source": [
    "# EXAMPLE 5a: Guess the number\n",
    "\n",
    "import random\n",
    "\n",
    "# Choose the random number\n",
    "secret_number = random.randrange(1,101)\n",
    "\n",
    "# This holds the answer to the question \"Should we keep guessing?\"\n",
    "# In the beginning, we certainly should\n",
    "keep_guessing = True\n",
    "\n",
    "print('I\\'m thinking of a number between 1 and 100! Can you guess it?')\n",
    "\n",
    "while keep_guessing == True:\n",
    "    guess = int(input('Enter a guess: '))\n",
    "    if guess > secret_number:\n",
    "        print('Too high!')\n",
    "    elif guess < secret_number:\n",
    "        print('Too low!')\n",
    "    else:\n",
    "        # Must be equal! Now is the time for the program to stop.\n",
    "        print('You got it!')\n",
    "        keep_guessing = False"
   ]
  },
  {
   "cell_type": "markdown",
   "metadata": {},
   "source": [
    "\n",
    "<br><br><br><br><br>\n",
    "<br><br><br><br><br>\n",
    "\n",
    "\n",
    "\n",
    "# 6. Reading File Objects\n",
    "\n",
    "#### * We've created file objects for writing before.\n",
    "\n",
    "#### * You can similarly create file objects for reading files -- we'll most read `.txt` files."
   ]
  },
  {
   "cell_type": "code",
   "execution_count": null,
   "metadata": {},
   "outputs": [],
   "source": [
    "BASICS OF FILE OBJECTS SYNTAX (READING)\n",
    "\n",
    "OPEN/CLOSE A FILE FOR READING:\n",
    "\n",
    "<fileobj var> = open('<actual file name>', 'r') # 'r'!\n",
    "<fileobj var>.close()\n",
    "\n",
    "\n",
    "READ THE ENTIRE FILE INTO ONE LARGE STRING VARIABLE:\n",
    "    \n",
    "<string var> = <fileobj>.read()\n"
   ]
  },
  {
   "cell_type": "markdown",
   "metadata": {},
   "source": [
    "#### * If you are reading from a file, that file must *already exist in your directory*."
   ]
  },
  {
   "cell_type": "code",
   "execution_count": null,
   "metadata": {},
   "outputs": [],
   "source": [
    "# EXAMPLE 6a: Basics of .read()\n",
    "\n",
    "alph = open('alphabet.txt', 'r')\n",
    "print(type(alph))\n",
    "the_whole_thing = alph.read()\n",
    "print(the_whole_thing)\n",
    "alph.close()"
   ]
  },
  {
   "cell_type": "markdown",
   "metadata": {},
   "source": [
    "<br><br><br><br><br>\n",
    "<br><br><br><br><br>\n",
    "\n",
    "\n",
    "#### * Open the file `twelve.txt` in reading mode, read it into a string, and then do a word count! "
   ]
  },
  {
   "cell_type": "code",
   "execution_count": null,
   "metadata": {},
   "outputs": [],
   "source": [
    "# EXAMPLE 6b: Performing a word count.\n",
    "\n",
    "# Create a file object for 'twelve.txt' in reading mode.\n",
    "\n",
    "\n",
    "\n",
    "# Read whole file into a string.\n",
    "\n",
    "\n",
    "\n",
    "# Now do a word count of that string.  Hint: .split()\n",
    "\n",
    "\n",
    "\n",
    "# Don't forget to close."
   ]
  },
  {
   "cell_type": "markdown",
   "metadata": {},
   "source": [
    "<br><br><br><br><br>\n",
    "<br><br><br><br><br>\n",
    "\n",
    "\n",
    "# 7.  Reading `n` Characters, and the Pitcher Analogy\n",
    "\n",
    "#### * Instead of reading entire file, you can read `n` characters, where `n` is a positive `int`.\n",
    "\n"
   ]
  },
  {
   "cell_type": "code",
   "execution_count": null,
   "metadata": {},
   "outputs": [],
   "source": [
    "READ n CHARACTERS FROM A FILE INTO A STRING VARIABLE:\n",
    "    \n",
    "<string var> = <fileobj>.read(<n>)\n"
   ]
  },
  {
   "cell_type": "code",
   "execution_count": null,
   "metadata": {},
   "outputs": [],
   "source": [
    "# EXAMPLE 7a: Reading n characters\n",
    "\n",
    "my_file = open('twelve.txt', 'r')\n",
    "\n",
    "# Let's read 10 characters.\n",
    "x = my_file.read(10)\n",
    "print(x)\n",
    "\n",
    "my_file.close()"
   ]
  },
  {
   "cell_type": "markdown",
   "metadata": {},
   "source": [
    "<br><br><br><br><br>\n",
    "<br><br><br><br><br>\n",
    "\n",
    "#### * You can perform multiple reads on the same file using `.read()`. \n",
    "\n",
    "#### * A file object opened in reading mode is kind of like a \"pitcher\".  \n",
    "\n",
    "#### --- In the beginning, the file object is filled with entire contents of file, in order.  \n",
    "\n",
    "#### --- `.read()`ing from file object \"pours out\" contents (usually into some variable), starting from the beginning.\n",
    "\n",
    "#### --- Subsequent `.read()`s will continue with the first character that hasn't already been poured out."
   ]
  },
  {
   "cell_type": "code",
   "execution_count": null,
   "metadata": {},
   "outputs": [],
   "source": [
    "# EXAMPLE 7b: The alphabet file\n",
    "\n",
    "'''\n",
    "alph = open('alphabet.txt', 'r')\n",
    "\n",
    "chunk_one = alph.read(6)\n",
    "alph.read(3)  \n",
    "chunk_two = alph.read(2)\n",
    "\n",
    "print(chunk_one)\n",
    "print(chunk_two)\n",
    "\n",
    "the_rest = alph.read()   # This pours everything else out of the file all at once\n",
    "print('...and here comes the rest: ')\n",
    "print(the_rest) \n",
    "\n",
    "alph.close()"
   ]
  },
  {
   "cell_type": "markdown",
   "metadata": {},
   "source": [
    "<br><br><br><br><br>\n",
    "<br><br><br><br><br>\n",
    "\n",
    "\n",
    "# 8. Reading Files Line-By-Line\n",
    "\n",
    "#### * You can loop through a file object! This automatically loops through the file's contents *line by line*."
   ]
  },
  {
   "cell_type": "code",
   "execution_count": null,
   "metadata": {},
   "outputs": [],
   "source": [
    "READ A FILE LINE BY LINE:\n",
    "    \n",
    "for <line> in <fileobj>:\n",
    "    <process line>\n",
    "    "
   ]
  },
  {
   "cell_type": "markdown",
   "metadata": {},
   "source": [
    "#### * In other words:\n",
    "\n",
    "#### --- If you loop through a list, in each pass through the loop, target variable will be a different element in the list.\n",
    "\n",
    "#### --- If you loop through a string, in each pass through the loop, the target variable will be a different character in the string.\n",
    "\n",
    "#### --- AND: *if you loop through a file object, in each pass through the loop, the target variable will be a different LINE in the file.*\n"
   ]
  },
  {
   "cell_type": "code",
   "execution_count": null,
   "metadata": {},
   "outputs": [],
   "source": [
    "# EXAMPLE 8a: One line at a time\n",
    "\n",
    "next_file = open('next.txt', 'r')\n",
    "\n",
    "for xyz in next_file:\n",
    "    print('Now xyz equals:', xyz) # Note that xyz will contain the new line character.\n",
    "    \n",
    "next_file.close()"
   ]
  },
  {
   "cell_type": "markdown",
   "metadata": {},
   "source": [
    "<br><br><br><br><br>\n",
    "<br><br><br><br><br>\n",
    "\n",
    "\n",
    "# 9. Sum The Table\n",
    "\n",
    "#### * Look at the file called `table.txt`. \n",
    "\n",
    "#### * I want to print out sum of the two scores in each line, like this:\n",
    "\n",
    "`Alice 100.6`\n",
    "\n",
    "`Bob 36.0`\n",
    "\n",
    "`Carol 162.5`\n",
    "\n",
    "`David 35.5`\n",
    "\n",
    "`Edward 35.6`\n",
    "\n",
    "`Frances 45.5`\n",
    "\n",
    "#### * Grab each line using a for loop.  For each line you get, split it, and don't forget to `float` the results!"
   ]
  },
  {
   "cell_type": "code",
   "execution_count": null,
   "metadata": {},
   "outputs": [],
   "source": [
    "# EXAMPLE 9a: Sum The Scores \n",
    "\n",
    "table_file = open('table.txt', 'r')\n",
    "\n",
    "for\n",
    "\n",
    "\n",
    "\n",
    "\n",
    "table_file.close()"
   ]
  }
 ],
 "metadata": {
  "kernelspec": {
   "display_name": "Python 3 (ipykernel)",
   "language": "python",
   "name": "python3"
  },
  "language_info": {
   "codemirror_mode": {
    "name": "ipython",
    "version": 3
   },
   "file_extension": ".py",
   "mimetype": "text/x-python",
   "name": "python",
   "nbconvert_exporter": "python",
   "pygments_lexer": "ipython3",
   "version": "3.11.5"
  },
  "name": "_merged_merged"
 },
 "nbformat": 4,
 "nbformat_minor": 4
}
