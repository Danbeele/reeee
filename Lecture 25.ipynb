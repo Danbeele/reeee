{
 "cells": [
  {
   "cell_type": "markdown",
   "metadata": {},
   "source": [
    "# Lecture 25\n",
    "\n",
    "###  Sorting; Selection Sort;  Merge Sort; The Merge;  The Merge Sort Itself; Euclidean GCD"
   ]
  },
  {
   "cell_type": "markdown",
   "metadata": {},
   "source": [
    "\n",
    "\n",
    "# 1. Sorting\n",
    "\n",
    "### * How do you sort a list?  This means, for instance, given a list of words, how can you put that list in alphabetical order?  Well, here's one way:\n",
    "\n"
   ]
  },
  {
   "cell_type": "code",
   "execution_count": null,
   "metadata": {},
   "outputs": [],
   "source": [
    "# EXAMPLE 1a: Sorting, done for you.\n",
    "\n",
    "names = ['Jacob', 'Sophia', 'Mason', 'Isabella', 'William', 'Emma', 'Jayden',\n",
    "         'Olivia', 'Noah', 'Ava', 'Michael', 'Emily', 'Ethan', 'Abigail',\n",
    "         'Alexander', 'Madison', 'Aiden', 'Mia', 'Daniel', 'Chloe', 'Anthony',\n",
    "         'Elizabeth', 'Matthew', 'Ella', 'Elijah', 'Addison', 'Joshua', 'Natalie', 'Liam', 'Lily']\n",
    "names.sort()\n",
    "print(names)\n"
   ]
  },
  {
   "cell_type": "markdown",
   "metadata": {},
   "source": [
    "### * But then, how does Python do that?  The Python interpreter doesn't just wave a wand and instantly the list becomes sorted -- it performs a lot of operations moving elements around in memory to get them in the right order.  \n",
    "\n",
    "### * A **lot** of thought went into the best way to do this -- lots of sorting algorithm.  \n",
    "\n"
   ]
  },
  {
   "cell_type": "markdown",
   "metadata": {},
   "source": [
    "<br><br><br><br><br><br><br><br><br><br>\n",
    "\n",
    "# 2. The Selection Sort\n",
    "\n",
    "\n",
    "### * Selection sort algorithm\n",
    "\n",
    "### --- Go through the entire list and find the least element.\n",
    "### --- Swap that element with the first one.\n",
    "### --- Then, go through the list starting with the second element, looking for the least element out of those.\n",
    "### --- Swap that element with the second one.\n",
    "### --- So on and so forth, until you are down to a one element list.\n",
    "\n",
    "### * So for example, to sort the list `k, d, b, h, c, i`, the steps would be ...\n",
    "\n",
    "<br><br><br><br><br><br><br><br><br><br>\n",
    "\n"
   ]
  },
  {
   "cell_type": "code",
   "execution_count": null,
   "metadata": {},
   "outputs": [],
   "source": [
    "# EXAMPLE 2a: Selection sort\n",
    "\n",
    "names = ['Jacob', 'Sophia', 'Mason', 'Isabella', 'William', 'Emma', 'Jayden',\n",
    "         'Olivia', 'Noah', 'Ava', 'Michael', 'Emily', 'Ethan', 'Abigail',\n",
    "         'Alexander', 'Madison', 'Aiden', 'Mia', 'Daniel', 'Chloe', 'Anthony',\n",
    "         'Elizabeth', 'Matthew', 'Ella', 'Elijah', 'Addison', 'Joshua', 'Natalie', 'Liam', 'Lily']\n",
    "\n",
    "# To implement the selection sort, we will go through the list by INDEX.  That is because we will need to keep track\n",
    "# of where the elements we are switching are.\n",
    "\n",
    "for slot in range(30):\n",
    "    # slot represents the position we are currently finding the correct element for.\n",
    "    # pos_of_min will contain the position of the least element from position slot on.\n",
    "    # In the beginning, we'll start it with slot.\n",
    "    pos_of_min = slot\n",
    "    \n",
    "    # Look through all the names AFTER position i\n",
    "    for i in range(slot + 1, 30):\n",
    "        if names[i] < names[pos_of_min]:\n",
    "            # Then we've found the current least element -- now we record its position.\n",
    "            \n",
    "            # WHAT GOES HERE?  (One line)\n",
    "            \n",
    "            \n",
    "    # Finally, swap names[slot] with names[pos_of_min]\n",
    "    temp = names[slot]\n",
    "    names[slot] = names[pos_of_min]\n",
    "    names[pos_of_min] = temp\n",
    "            \n",
    "            \n",
    "print(names)"
   ]
  },
  {
   "cell_type": "markdown",
   "metadata": {},
   "source": [
    "### * How many comparisons do we perform when we do a selection sort?  \n",
    "\n",
    "### * If the length of the list is $n$, to set the first element, we use $n-1$ comparisons; to set the second element, we use $n-2$ comparisons, ..., and the last element is set using $0$ comparisons.  \n",
    "\n",
    "### * The total number of comparisons is\n",
    "$$(n-1) + (n-2) + \\ldots + 2 + 1+ 0$$\n",
    "### which turns out to equal $\\frac{1}{2}(n^2 - n)$ comparisons.  We say that this algorithm is an $O(n^2)$ algorithm -- the number of steps, as a function of $n$, is quadratic.  This turns out to be rather inefficient -- you can do way better.\n",
    "\n",
    "<br><br><br><br><br><br><br><br><br><br>\n"
   ]
  },
  {
   "cell_type": "markdown",
   "metadata": {},
   "source": [
    "# 3. Merge Sort\n",
    "\n",
    "### * Much faster, more sophisticated: \n",
    "\n",
    "### --- Split the list into two parts.\n",
    "### --- Sort each list (using the algorithm we are currently describing if the length is more than 1).\n",
    "### --- Then, merge the two sorted lists: create an output list; examine the leading elements of the two lists, and remove the lesser, appending the value to the output list; repeat this procedure until one list has had all its elements removed, and then concatenate the remaining list onto the output list.\n",
    "\n",
    "### * For example, let's merge sort `38, 27, 43, 3, 9, 82, 10`. Image from Wikipedia:\n",
    "\n",
    "![NOT FOUND!!!!!!!!!!](merge.png)\n",
    "\n"
   ]
  },
  {
   "cell_type": "markdown",
   "metadata": {},
   "source": [
    "<br><br><br><br><br><br><br><br><br><br>\n",
    "\n",
    "# 4. The Merge\n",
    "\n",
    "### * The merge itself is a key part of merge sort.  It takes two lists that are individually sorted, and merges them into one.  \n",
    "\n",
    "### * Note that I don't use `del`: that makes the code easier to write, but `del` is a slow operation, and merge sort is meant to be fast!"
   ]
  },
  {
   "cell_type": "code",
   "execution_count": null,
   "metadata": {},
   "outputs": [],
   "source": [
    "# EXAMPLE 4a: The merge\n",
    "\n",
    "\n",
    "def merge(list1, list2):\n",
    "    \"\"\"Return a single list, which merges two sorted lists into one sorted list.\"\"\"\n",
    "    output_list = []\n",
    "    \n",
    "    # pos1 and pos2 will represent what position we are at in each list.\n",
    "    pos1 = 0\n",
    "    pos2 = 0\n",
    "    \n",
    "    # Starting at the beginning: we compare the elements at pos1 in list 1 and pos2 in list 2.\n",
    "    # We put the smaller element on the output_list, and move that position forward.\n",
    "    # We do this until we have reached the end of one list.\n",
    "    while pos1 < len(list1) and pos2 < len(list2):\n",
    "        if list1[pos1] < list2[pos2]:\n",
    "            output_list.append(list1[pos1])\n",
    "            pos1 += 1\n",
    "        else:\n",
    "            output_list.append(list2[pos2])\n",
    "            pos2 += 1\n",
    "            \n",
    "    # After we've made it to the end of one list, we concatenate the rest of the other list.\n",
    "    if pos1 == len(list1):\n",
    "        output_list += list2[pos2:]\n",
    "    else:\n",
    "        output_list += list1[pos1:]\n",
    "    return output_list\n",
    "\n",
    "print(merge([1, 7, 10, 19],  [3, 5, 8, 20, 23]))\n",
    "\n",
    "#But merge does not always sort the items entirely. \n",
    "#For example, if there are less items in one list than the other. \n",
    "\n",
    "#print(merge([1,5,3,9,],[2]))\n",
    "\n",
    "\n",
    "# Or if there is a small value towards the end of a list. \n",
    "# print(merge([7, 10, 19, 1],  [3, 5, 8, 20, 23]))"
   ]
  },
  {
   "cell_type": "markdown",
   "metadata": {},
   "source": [
    "<br><br><br><br><br><br><br><br><br><br>\n",
    "\n",
    "\n",
    "# 5. The Merge Sort Itself\n",
    "\n",
    "### * Now, using recursion, the merge sort itself is super simple."
   ]
  },
  {
   "cell_type": "code",
   "execution_count": null,
   "metadata": {},
   "outputs": [],
   "source": [
    "# EXAMPLE 5a: Merge sort\n",
    "\n",
    "\n",
    "names = ['Jacob', 'Sophia', 'Mason', 'Isabella', 'William', 'Emma', 'Jayden',\n",
    "         'Olivia', 'Noah', 'Ava', 'Michael', 'Emily', 'Ethan', 'Abigail',\n",
    "         'Alexander', 'Madison', 'Aiden', 'Mia', 'Daniel', 'Chloe', 'Anthony',\n",
    "         'Elizabeth', 'Matthew', 'Ella', 'Elijah', 'Addison', 'Joshua', 'Natalie', 'Liam', 'Lily']\n",
    "\n",
    "\n",
    "\n",
    "\n",
    "def merge_sort(my_list):\n",
    "    \"\"\"Return my_list sorted, using a merge sort.\"\"\"\n",
    "    \n",
    "    \n",
    "    \n",
    "    \n",
    "    \n",
    "    \n",
    "    \n",
    "sort_names = merge_sort(names)\n",
    "print(sort_names)\n",
    "      \n",
    "       "
   ]
  },
  {
   "cell_type": "markdown",
   "metadata": {},
   "source": [
    "<br><br><br><br><br><br><br><br><br><br>\n",
    "\n",
    "\n",
    "### * I claim that merge sort runs in $O(n \\log_2 n)$ time (where $n$ is the length of the input list), which is way faster than $O(n^2)$ time.  Why?\n",
    "\n",
    "### * Let's look at that picture again:\n",
    "\n",
    "![NOT FOUND!!!!!!!!!!](merge.png)\n",
    "\n",
    "### * Focus on the bottom half, where the merges take place.  There are 3 stages of merging: merging the individual elements into twosies; merging the twosies into foursies; and finally merging the foursies into the entire list.  \n",
    "\n",
    "### * The key idea is that: *in each stage, the total number of comparisons is roughly equal to the total length of the list*.  This is because each comparison will result in one number being merged into a list, and every number will be merged exactly once at each stage.\n",
    "\n",
    "### * How many stages are there?  That would be around $\\log_2 n$ -- this is the number of times you can divide a list of length $n$ in 2 before you get onesies.  So, in total: approximately $n$ comparisons per stage time $\\log_2 n$ stages equals approximately $n \\log_2 n$ operations in total.\n",
    "\n",
    "<br><br><br><br><br><br><br><br><br><br>\n"
   ]
  },
  {
   "cell_type": "markdown",
   "metadata": {},
   "source": [
    "# 6. Recursive Euclidean Algorithm\n"
   ]
  },
  {
   "cell_type": "markdown",
   "metadata": {},
   "source": [
    "### * A faster GCD algorithm!\n",
    "\n",
    "### * Core idea: if `n` goes into both `x` and `y`, then `n` should go into `x-y`, `x-2y`, `x-3y`, .... \n",
    "\n",
    "### * .... and `x%y` can be thought of as `x` minus a multiple of `y`.  \n",
    "\n",
    "### * So: GCD(x, y) = GCD(y, x%y).  (And GCD(x, 0) = x.)  That sounds like recursion and base-case!"
   ]
  },
  {
   "cell_type": "code",
   "execution_count": null,
   "metadata": {},
   "outputs": [],
   "source": [
    "# Example 6b: Euclidean Algorithm\n",
    "\n",
    "def gcd2(x, y):\n",
    "    if y == 0:\n",
    "        return x\n",
    "    return gcd2(y, x%y)\n",
    "\n",
    "print(gcd2(1_000_000_000, 2_000_000_000))"
   ]
  },
  {
   "cell_type": "markdown",
   "metadata": {},
   "source": [
    "### * Euclid algorithm can be shown to run in $O(\\log n)$ time when the larger input is $n$.  (More precise: the number of mod operations is guaranteed to be $\\leq 5\\log_{10}(n)$ -- this is far from obvious!)"
   ]
  }
 ],
 "metadata": {
  "kernelspec": {
   "display_name": "Python 3 (ipykernel)",
   "language": "python",
   "name": "python3"
  },
  "language_info": {
   "codemirror_mode": {
    "name": "ipython",
    "version": 3
   },
   "file_extension": ".py",
   "mimetype": "text/x-python",
   "name": "python",
   "nbconvert_exporter": "python",
   "pygments_lexer": "ipython3",
   "version": "3.11.5"
  },
  "name": "_merged_merged"
 },
 "nbformat": 4,
 "nbformat_minor": 4
}
