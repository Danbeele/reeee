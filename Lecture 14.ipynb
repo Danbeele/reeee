{
 "cells": [
  {
   "cell_type": "markdown",
   "metadata": {},
   "source": [
    "# Lecture 14\n",
    "\n",
    "### Newton's Method; Reading File Objects; Reading n Characters, and the Pitcher; Reading Line-By-Line; Sum the Table; File Validation;  Nested Lists"
   ]
  },
  {
   "cell_type": "markdown",
   "metadata": {},
   "source": [
    "# 1. Newton's Method\n",
    "\n",
    "#### * Problem: solve the equation $f(x) = 0$ for $x$.\n",
    "\n",
    "#### * Newton's method attacks this problem using tangent lines.\n",
    "\n",
    "#### * To explain idea, here's a warmup:\n",
    "\n",
    "#### if $g(x) = x^2$\n",
    "\n",
    "#### and $h(x) = 6x - 9$\n",
    "\n",
    "#### what are $g(x)$ and $h(x)$ when $x = 3$?  $x = 3.1$? $x = 3.01$?\n",
    "\n",
    "\n",
    "<br><br><br><br><br>\n",
    "<br><br><br><br><br>\n",
    "#### * Values are close because $y = 6x - 9$ is *linearization* of $g(x)$ at $x = 3$\n",
    "\n",
    "\n",
    "#### * So, at least when $x \\approx 3$,  $h(x)$ is a good replacement for $g(x)$.\n",
    "\n",
    "#### * Furthermore, the linear function $h(x)$ is easier to work with. \n",
    "\n",
    "#### * These two points form the idea behind Newton's method.\n",
    "\n",
    "\n",
    "\n",
    "<br><br><br><br><br>\n",
    "<br><br><br><br><br>\n",
    "\n",
    "#### * Let's try to solve $f(x) = 0$ where $f(x) = x^2 - 5$.\n",
    "\n",
    "![IMAGE NOT FOUND!!!!!!!](12.png)\n",
    "\n",
    "\n",
    "#### * Want to find $x$-intercept of this graph.\n",
    "\n",
    "#### * Principle: pick a random point $x_0$, linearize $f(x)$ at $x = x_0$, solve easier linearized equation\n",
    "\n",
    "#### * Call the solution to easier equation $x_1$, which is hopefully closer to a real solution.  Then, repeat!\n",
    "\n",
    "#### * Let's start with $x_0 = 1$:\n",
    "\n",
    "#### --- Tangent line to $y = x^2 - 5$ at that point is $y = 2x-6$\n",
    "\n",
    "#### --- Solve $2x - 6 = 0$; get $x = 3$, call that $x_1$.\n",
    "\n",
    "notes - y - f(x0) = f'(x0)(x - x0)\n",
    "\n",
    "\n",
    "![IMAGE NOT FOUND!!!!!!!](22.png)\n",
    "\n",
    "<br><br><br><br><br>\n",
    "<br><br><br><br><br>\n",
    "\n",
    "#### * Next: do it all again, except this time, start with the better guess we just obtained, $x_1 = 3$.\n",
    "\n",
    "![IMAGE NOT FOUND!!!!!!!](32.png)\n",
    "\n",
    "<br><br><br><br><br>\n",
    "<br><br><br><br><br>\n",
    "\n",
    "#### * In general, to estimate a solution to $f(x) = 0$:\n",
    "\n",
    "#### --- Start with a guess $x_0$.\n",
    "\n",
    "#### --- Find equation of the tangent line at that point, which is $y - f(x_0) = f'(x_0)(x - x_0)$\n",
    "\n",
    "#### --- Find $x$-intercept of that line, which  $x = x_0 - \\frac{f(x_0)}{f'(x_0)}$, call this $x_1$\n",
    "\n",
    "#### --- Then repeat with $x_1$ to get $x_2$, then repeat with $x_2$ to get $x_3$, then repeat with $x_3$ to get $x_4$, etc.\n",
    "\n",
    "<br><br><br><br><br>\n",
    "<br><br><br><br><br>\n",
    "\n",
    "#### **Newton's Method**: to estimate a solution to $f(x) = 0$:\n",
    "\n",
    "#### --- Take a guess $x = x_0$.\n",
    "\n",
    "#### --- Then, calculate improved estimates $x_i$ using the formula $ x_{n+1} = x_n - \\frac{f(x_n)}{f'(x_n)}.$\n",
    "\n",
    "#### --- Keep repeating until you deem the value of $f(x_n)$ sufficiently close to $0$.\n",
    "\n",
    "#### * Newton's method is prone to failure if $x_i$ is a critical number; if there are multiple solutions; and in other situations.\n",
    "\n",
    "#### * But tends to work correctly and quickly in certain cases -- like with *convex* functions.\n",
    "\n",
    "<br><br><br><br><br>\n",
    "<br><br><br><br><br>\n"
   ]
  },
  {
   "cell_type": "markdown",
   "metadata": {},
   "source": [
    "# 2. Reading File Objects\n",
    "\n",
    "#### * We've created file objects for writing before.\n",
    "\n",
    "#### * You can similarly create file objects for reading files -- we'll most read `.txt` files."
   ]
  },
  {
   "cell_type": "code",
   "execution_count": null,
   "metadata": {},
   "outputs": [],
   "source": [
    "BASICS OF FILE OBJECTS SYNTAX (READING)\n",
    "\n",
    "OPEN/CLOSE A FILE FOR READING:\n",
    "\n",
    "<fileobj var> = open('<actual file name>', 'r') # 'r'!\n",
    "<fileobj var>.close()\n",
    "\n",
    "\n",
    "READ THE ENTIRE FILE INTO ONE LARGE STRING VARIABLE:\n",
    "    \n",
    "<string var> = <fileobj>.read()\n"
   ]
  },
  {
   "cell_type": "markdown",
   "metadata": {},
   "source": [
    "#### * If you are reading from a file, that file must *already exist in your directory*."
   ]
  },
  {
   "cell_type": "code",
   "execution_count": 4,
   "metadata": {},
   "outputs": [
    {
     "name": "stdout",
     "output_type": "stream",
     "text": [
      "<class '_io.TextIOWrapper'>\n",
      "<class 'str'>\n",
      "abc def\n",
      "ghi jkl\n",
      "mno pqr\n",
      "stu vwx\n",
      "yz\n"
     ]
    }
   ],
   "source": [
    "# EXAMPLE 6a: Basics of .read()\n",
    "\n",
    "alph = open('alphabet.txt', 'r')\n",
    "print(type(alph))\n",
    "the_whole_thing = alph.read()\n",
    "print(type(the_whole_thing))\n",
    "print(the_whole_thing)\n",
    "alph.close()"
   ]
  },
  {
   "cell_type": "markdown",
   "metadata": {},
   "source": [
    "<br><br><br><br><br>\n",
    "<br><br><br><br><br>\n",
    "\n",
    "\n",
    "#### * Open the file `twelve.txt` in reading mode, read it into a string, and then do a word count! "
   ]
  },
  {
   "cell_type": "code",
   "execution_count": 5,
   "metadata": {},
   "outputs": [
    {
     "name": "stdout",
     "output_type": "stream",
     "text": [
      "12 Words\n"
     ]
    }
   ],
   "source": [
    "# EXAMPLE 2b: Performing a word count.\n",
    "\n",
    "# Create a file object for 'twelve.txt' in reading mode.\n",
    "\n",
    "file = open('twelve.txt', 'r')\n",
    "\n",
    "# Read whole file into a string.\n",
    "\n",
    "fileString = file.read()\n",
    "\n",
    "# Now do a word count of that string.  Hint: .split()\n",
    "\n",
    "print(len(fileString.split()), 'Words')\n",
    "\n",
    "# Don't forget to close.\n",
    "\n",
    "file.close()"
   ]
  },
  {
   "cell_type": "markdown",
   "metadata": {},
   "source": [
    "<br><br><br><br><br>\n",
    "<br><br><br><br><br>\n",
    "\n",
    "\n",
    "# 3.  Reading `n` Characters, and the Pitcher Analogy\n",
    "\n",
    "#### * Instead of reading entire file, you can read `n` characters, where `n` is a positive `int`.\n",
    "\n"
   ]
  },
  {
   "cell_type": "code",
   "execution_count": null,
   "metadata": {},
   "outputs": [],
   "source": [
    "READ n CHARACTERS FROM A FILE INTO A STRING VARIABLE:\n",
    "    \n",
    "<string var> = <fileobj>.read(<n>)\n"
   ]
  },
  {
   "cell_type": "code",
   "execution_count": 11,
   "metadata": {},
   "outputs": [
    {
     "name": "stdout",
     "output_type": "stream",
     "text": [
      "This sente\n",
      "This sente\n",
      "sentence r\n",
      "sentence r\n",
      "ight here \n"
     ]
    }
   ],
   "source": [
    "# EXAMPLE 3a: Reading n characters\n",
    "\n",
    "my_file = open('twelve.txt', 'r')\n",
    "\n",
    "# Let's read 10 characters.\n",
    "x = my_file.read(10)\n",
    "print(x)\n",
    "my_file.seek(0)\n",
    "x = my_file.read(10)\n",
    "print(x)\n",
    "my_file.seek(5)\n",
    "x = my_file.read(10)\n",
    "print(x)\n",
    "my_file.seek(5)\n",
    "x = my_file.read(10)\n",
    "print(x)\n",
    "x = my_file.read(10)\n",
    "print(x)\n",
    "\n",
    "my_file.close()"
   ]
  },
  {
   "cell_type": "markdown",
   "metadata": {},
   "source": [
    "<br><br><br><br><br>\n",
    "<br><br><br><br><br>\n",
    "\n",
    "#### * You can perform multiple reads on the same file using `.read()`. \n",
    "\n",
    "#### * A file object opened in reading mode is kind of like a \"pitcher\".  \n",
    "\n",
    "#### --- In the beginning, the file object is filled with entire contents of file, in order.  \n",
    "\n",
    "#### --- `.read()`ing from file object \"pours out\" contents (usually into some variable), starting from the beginning.\n",
    "\n",
    "#### --- Subsequent `.read()`s will continue with the first character that hasn't already been poured out."
   ]
  },
  {
   "cell_type": "code",
   "execution_count": null,
   "metadata": {},
   "outputs": [],
   "source": [
    "# EXAMPLE 3b: The alphabet file\n",
    "\n",
    "'''\n",
    "alph = open('alphabet.txt', 'r')\n",
    "\n",
    "chunk_one = alph.read(6)\n",
    "alph.read(3)  \n",
    "chunk_two = alph.read(2)\n",
    "\n",
    "print(chunk_one)\n",
    "print(chunk_two)\n",
    "\n",
    "the_rest = alph.read()   # This pours everything else out of the file all at once\n",
    "print('...and here comes the rest: ')\n",
    "print(the_rest) \n",
    "\n",
    "alph.close()"
   ]
  },
  {
   "cell_type": "markdown",
   "metadata": {},
   "source": [
    "<br><br><br><br><br>\n",
    "<br><br><br><br><br>\n",
    "\n",
    "\n",
    "# 4. Reading Files Line-By-Line\n",
    "\n",
    "#### * You can loop through a file object! This automatically loops through the file's contents *line by line*."
   ]
  },
  {
   "cell_type": "code",
   "execution_count": null,
   "metadata": {},
   "outputs": [],
   "source": [
    "READ A FILE LINE BY LINE:\n",
    "    \n",
    "for <line> in <fileobj>:\n",
    "    <process line>\n",
    "    "
   ]
  },
  {
   "cell_type": "markdown",
   "metadata": {},
   "source": [
    "#### * In other words:\n",
    "\n",
    "#### --- If you loop through a list, in each pass through the loop, target variable will be a different element in the list.\n",
    "\n",
    "#### --- If you loop through a string, in each pass through the loop, the target variable will be a different character in the string.\n",
    "\n",
    "#### --- AND: *if you loop through a file object, in each pass through the loop, the target variable will be a different LINE in the file.*\n"
   ]
  },
  {
   "cell_type": "code",
   "execution_count": null,
   "metadata": {},
   "outputs": [],
   "source": [
    "# EXAMPLE 4a: One line at a time\n",
    "\n",
    "next_file = open('next.txt', 'r')\n",
    "\n",
    "for xyz in next_file:\n",
    "    print('Now xyz equals:', xyz) # Note that xyz will contain the new line character.\n",
    "    \n",
    "next_file.close()"
   ]
  },
  {
   "cell_type": "markdown",
   "metadata": {},
   "source": [
    "<br><br><br><br><br>\n",
    "<br><br><br><br><br>\n",
    "\n",
    "\n",
    "# 5. Sum The Table\n",
    "\n",
    "#### * Look at the file called `table.txt`. \n",
    "\n",
    "#### * I want to print out sum of the two scores in each line, like this:\n",
    "\n",
    "`Alice 100.6`\n",
    "\n",
    "`Bob 36.0`\n",
    "\n",
    "`Carol 162.5`\n",
    "\n",
    "`David 35.5`\n",
    "\n",
    "`Edward 35.6`\n",
    "\n",
    "`Frances 45.5`\n",
    "\n",
    "#### * Grab each line using a for loop.  For each line you get, split it, and don't forget to `float` the results!"
   ]
  },
  {
   "cell_type": "code",
   "execution_count": null,
   "metadata": {},
   "outputs": [],
   "source": [
    "# EXAMPLE 5a: Sum The Scores \n",
    "\n",
    "table_file = open('table.txt', 'r')\n",
    "\n",
    "for line in table_file:\n",
    "    line=line.split()\n",
    "    s=float(line[1])+float(line[2])\n",
    "    print(f'{line[0]:10} {s}')\n",
    "\n",
    "\n",
    "\n",
    "\n",
    "table_file.close()"
   ]
  },
  {
   "cell_type": "markdown",
   "metadata": {},
   "source": [
    "<br><br><br><br><br>\n",
    "<br><br><br><br><br>\n",
    "\n",
    "\n",
    "# 6. File Validation\n",
    "\n",
    "#### * What if the file you're looking for isn't present?\n",
    "\n",
    "#### * That's a job for Exception Handling!"
   ]
  },
  {
   "cell_type": "code",
   "execution_count": null,
   "metadata": {},
   "outputs": [],
   "source": [
    "# EXAMPLE 6a: Files and exceptions\n",
    "\n",
    "filename = input('Enter file name: ')\n",
    "\n",
    "# Remember exceptions?  The file opening line is prone to errors, because files may not be found.  \n",
    "# So we try it, and provide an alternative behavior if an error does indeed occur.\n",
    "try:\n",
    "    file = open(filename, 'r')\n",
    "    print(file.read())\n",
    "    file.close()\n",
    "except FileNotFoundError:\n",
    "    print('No file by that name here! I\\'m not going to ask again because I\\'m lazy.')\n",
    "    \n",
    "print('All good!')"
   ]
  },
  {
   "cell_type": "markdown",
   "metadata": {},
   "source": [
    "<br><br><br><br><br>\n",
    "<br><br><br><br><br>\n",
    "\n",
    "\n",
    "# 7. Nested Lists (or 2D Lists)\n",
    "\n",
    "#### * Just like we have loops within loops, we can have lists within lists.  \n",
    "\n",
    "#### * A \"1D\" list contains numbers; a \"2D\" list contains lists -- like a table!\n",
    "\n"
   ]
  },
  {
   "cell_type": "code",
   "execution_count": null,
   "metadata": {},
   "outputs": [],
   "source": [
    "# EXAMPLE 7a: A list of lists -- or, a \"2-dimensional\" list.\n",
    "\n",
    "my_table = [[51,42,36,81],[41,11,52,63],[91,81,32,10,77]]\n",
    "\n",
    "print('len(my_table) =', len(my_table))\n",
    "print('my_table[1] =', my_table[1])\n",
    "print('my_table[1][3] =', my_table[1][3])\n",
    "\n",
    "my_table[0][2] += 1000\n",
    "print('my_table =', my_table)\n"
   ]
  },
  {
   "cell_type": "markdown",
   "metadata": {},
   "source": [
    "#### * Notice:\n",
    "\n",
    "#### --- The lists contained in a list don't have to be the same length. \n",
    "\n",
    "#### ---  We access (and update) entries using two pairs of brackets.   E.g. `my_table[1]` is the second element of `my_table`, so `(my_table[1])[3]` just means the fourth element of the list `my_table[1]`.  \n",
    "\n",
    "#### ---  `len(my_table)` is the number of elements the list contains -- what those elements are has no bearing on this calculation."
   ]
  }
 ],
 "metadata": {
  "kernelspec": {
   "display_name": "Python 3 (ipykernel)",
   "language": "python",
   "name": "python3"
  },
  "language_info": {
   "codemirror_mode": {
    "name": "ipython",
    "version": 3
   },
   "file_extension": ".py",
   "mimetype": "text/x-python",
   "name": "python",
   "nbconvert_exporter": "python",
   "pygments_lexer": "ipython3",
   "version": "3.11.5"
  },
  "name": "_merged_merged"
 },
 "nbformat": 4,
 "nbformat_minor": 4
}
