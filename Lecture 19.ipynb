{
 "cells": [
  {
   "cell_type": "markdown",
   "metadata": {},
   "source": [
    "# Lecture 19\n",
    "\n",
    "### Dictionaries; `KeyError`s and `try`-`except`; Votes; Looping Through Dictionaries; List Comprehensions"
   ]
  },
  {
   "cell_type": "markdown",
   "metadata": {},
   "source": [
    "\n",
    "\n",
    "# 1. Dictionaries\n",
    "\n",
    "### * A dictionary is a data structure that is meant to represent a *mapping* between \"keys\" (inputs) and \"values\" (outputs). \n",
    "\n",
    "### * A dictionary contains a number of key-value pairs.  You may then use the dictionary by supplying it a key; the dictionary will supply the corresponding value.  \n",
    "\n",
    "### * Example to keep in mind: a translation dictionary -- keys would be English words, and the corresponding values would be the Spanish translations.  "
   ]
  },
  {
   "cell_type": "code",
   "execution_count": null,
   "metadata": {},
   "outputs": [],
   "source": [
    "# EXAMPLE 1a: Dictionaries\n",
    "\n",
    "# This is a dictionary.  It is enclosed in curly braces.  Each pair of values is separated by a comma,\n",
    "# and in each pair, key and value are separated by a colon.\n",
    "eng_spn = {'dog':'perro', 'cat':'gato', 'horse':'caballo'}\n",
    "\n",
    "# You can access a dictionary by key, which looks a lot like accessing a list by index\n",
    "print(eng_spn['dog'])\n",
    "\n",
    "word = input('Enter a word: ')\n",
    "trans = eng_spn[word]\n",
    "print(trans)"
   ]
  },
  {
   "cell_type": "markdown",
   "metadata": {},
   "source": [
    "### * So: you can define a dictionary using curly braces; each entry is of the form `key:value`, seperated by commas; and you can access elements using `dictionary_name[key]`.\n",
    "\n",
    "\n"
   ]
  },
  {
   "cell_type": "code",
   "execution_count": null,
   "metadata": {},
   "outputs": [],
   "source": [
    "BASIC DICTIONARY SYNTAX (DO NOT RUN):\n",
    "    \n",
    "dictionary = {key1 : val1, key2 : val2, . . . }"
   ]
  },
  {
   "cell_type": "markdown",
   "metadata": {},
   "source": [
    "<br><br><br><br><br><br><br><br><br><br>\n",
    "\n",
    "### * Dictionaries are mutable."
   ]
  },
  {
   "cell_type": "code",
   "execution_count": null,
   "metadata": {},
   "outputs": [],
   "source": [
    "# EXAMPLE 3b: Dictionaries are mutable\n",
    "\n",
    "eng_spn = {'dog':'perro', 'cat':'gato', 'horse':'caballo'}\n",
    "\n",
    "# Dictionaries are mutable.  You can add new entries like this:\n",
    "eng_spn['cow'] = 'waca'\n",
    "# and you can change the values of each key after assignment:\n",
    "eng_spn['cow'] = 'vaca'\n",
    "\n",
    "# You can also delete like you do with lists -- this will delete both key and value.\n",
    "del eng_spn['horse']\n",
    "\n",
    "# This is what it looks like when you print out a dictionary\n",
    "print(eng_spn)"
   ]
  },
  {
   "cell_type": "markdown",
   "metadata": {},
   "source": [
    "### * So, you can add new values using `dictionary_name[key] = value`; you can also modify existing values `dictionary_name[key] = value`, where `key` is a key that is already present; and you can delete pairs using `del dictionary_name[key]`.\n",
    "\n",
    "<br><br><br><br><br><br><br><br><br><br>\n",
    "\n",
    "# 4. `KeyError`s and `try`-`except`\n",
    "\n",
    "### * What if you try to access a key that isn't present?  Go back up, and try to enter a bad key.\n",
    "\n",
    "### * `try`-`except` can help.  If code inside `try` produces a `KeyError`, execution switches to the `except KeyError` block, instead of crashing."
   ]
  },
  {
   "cell_type": "code",
   "execution_count": null,
   "metadata": {},
   "outputs": [],
   "source": [
    "# EXAMPLE 4a: try-except\n",
    "\n",
    "eng_spn = {'dog':'perro', 'cat':'gato', 'horse':'caballo'}\n",
    "\n",
    "word = input('Enter a word: ')\n",
    "\n",
    "try:\n",
    "    trans = eng_spn[word]\n",
    "    print(trans)\n",
    "except KeyError:\n",
    "    print('I don\\'t know that word.  What is the translation?')\n",
    "    eng_spn[word] = input()\n",
    "\n",
    "print(eng_spn)"
   ]
  },
  {
   "cell_type": "markdown",
   "metadata": {},
   "source": [
    "<br><br><br><br><br>\n",
    "<br><br><br><br><br>\n",
    "\n",
    "# 5. Votes\n",
    "\n",
    "### * Make a dictionary called `vote_counts`, with three pairs: keys will be the strings `'Alice'`, `'Bob'`, and `'Carol'`, and the corresponding values will start with 0.  \n",
    "\n",
    "### * Inside a loop, have the program ask `'Who do you want to vote for?'`\n",
    "\n",
    "### * User will then type in a candidate they wish to vote for, and then the count for that candidate will be increased by 1. \n",
    "\n",
    "### * Can you make the code support write-in candidates?"
   ]
  },
  {
   "cell_type": "code",
   "execution_count": null,
   "metadata": {},
   "outputs": [],
   "source": [
    "# EXAMPLE 5a: Votes\n",
    "\n",
    "# Create a \"dictionary literal\"\n",
    "vote_count = {'Alice':0, 'Bob':0, 'Carol':0}\n",
    "\n",
    "# (OR: use a loop to create the dictionary!!!!)\n",
    "\n",
    "\n",
    "\n",
    "# Now, have 5 people vote\n",
    "for i in range(5):\n",
    "    userin = input(\"Who would you like to vote for? \")\n",
    "    try:\n",
    "        vote_count[userin] += 1\n",
    "    except KeyError:\n",
    "        vote_count[userin] = 1\n",
    "    \n",
    "    \n",
    "    \n",
    "print(vote_count)\n"
   ]
  },
  {
   "cell_type": "markdown",
   "metadata": {},
   "source": [
    "<br><br><br><br><br>\n",
    "<br><br><br><br><br>\n",
    "\n",
    "# 6. Looping Through a Dictionary\n",
    "\n",
    "### * You can loop through a dictionary. \n",
    "\n",
    "### * Be aware that entries in a dictionary *don't have a fixed order*.  Dictionaries don't have indices -- only keys!  \n",
    "\n",
    "\n",
    "### * Loops look like\n",
    "\n",
    "`for k in dictionary:`\n",
    "\n",
    "### where the loop variable (`k`) will take on all the *keys* in the dictionary; if you need to access the values, you can of course use `dictionary[k]`. "
   ]
  },
  {
   "cell_type": "code",
   "execution_count": null,
   "metadata": {},
   "outputs": [],
   "source": [
    "# EXAMPLE 6a: Looping through dictionaries\n",
    "\n",
    "vote_count = {'Alice':3, 'Bob':1, 'Carol':1}\n",
    "\n",
    "# You can loop through a dictionary looks just like looping through a list.\n",
    "for k in vote_count:\n",
    "    # k is the KEY of each pair.\n",
    "    print(k, 'got', vote_count[k], 'votes.')\n",
    "    \n",
    "#\n",
    "# Now: write code that finds the winner of the election, using a loop. Assume no ties.    \n",
    "# It's actually a little tricky -- you might want to have two variables to keep track of (winner's name, winning count)\n",
    "# \n",
    "\n",
    "\n",
    "\n",
    "\n",
    "\n"
   ]
  },
  {
   "cell_type": "markdown",
   "metadata": {},
   "source": [
    "### There are many different methods that can be applied to dictionaries. Here we will take a look through some of the more common uses."
   ]
  },
  {
   "cell_type": "code",
   "execution_count": null,
   "metadata": {},
   "outputs": [],
   "source": [
    "<dict>.keys() Returns a list containing all keys\n",
    "\n",
    "<dict>.values() Returns a list containing all values\n",
    "\n",
    "<dict>.items() Returns a list containing all the key-value pairs as a tuple (key, value)\n",
    "\n",
    "<dict>.pop() Returns the element and removes the last element (key-value pair) of the dictionary. This method also works for lists!"
   ]
  },
  {
   "cell_type": "code",
   "execution_count": null,
   "metadata": {},
   "outputs": [],
   "source": [
    "# You can use the .items() method to create a loop with TWO target variables. One for the Key and one for the Value.\n",
    "# Use this framework to create a summary of all votes. \n",
    "\n",
    "\n",
    "for k,v in vote_count.items():\n",
    "    print('k represents the key: ', k)\n",
    "    print('v represents the value: ', v)\n",
    "    \n",
    "#     **************"
   ]
  },
  {
   "cell_type": "markdown",
   "metadata": {},
   "source": [
    "\n",
    "<br><br><br><br><br><br><br><br><br><br>\n",
    "\n",
    "# 7. List Comprehensions\n",
    "\n",
    "### * An amazing tool for constructing lists quickly."
   ]
  },
  {
   "cell_type": "code",
   "execution_count": null,
   "metadata": {
    "jupyter": {
     "outputs_hidden": true
    }
   },
   "outputs": [],
   "source": [
    "# EXAMPLE 7a: List comprehensions\n",
    "\n",
    "numbers = input('Enter a list of numbers on one line: '')\n",
    "# This of course gives a big string.  Let's say you want to turn this string \n",
    "# into a list of floats. We know how to do that:\n",
    "\n",
    "list_1 = []\n",
    "for x in numbers.split():\n",
    "    list_1.append(float(x))\n",
    "    \n",
    "# Here's an alternate way to write this code in one line:\n",
    "# a list comprehension!\n",
    "list_2 = [float(x) for x in numbers.split()]\n",
    "\n",
    "print(list_1)\n",
    "print(list_2)\n",
    "\n"
   ]
  },
  {
   "cell_type": "markdown",
   "metadata": {},
   "source": [
    "<br><br><br><br><br><br><br><br><br><br>\n",
    "\n",
    "### * Syntax for a list comprehension is:"
   ]
  },
  {
   "cell_type": "code",
   "execution_count": null,
   "metadata": {},
   "outputs": [],
   "source": [
    "LIST COMPREHENSION SYNTAX:\n",
    "    \n",
    "<list name> = [<operation on item> for <item> in <list>]"
   ]
  },
  {
   "cell_type": "markdown",
   "metadata": {},
   "source": [
    "### * This creates a list, where each value comes from performing the indicated operation on each element in `<list>`. \n",
    "\n",
    "### * How can we create a new list which is equal to some old list with each element squared?"
   ]
  },
  {
   "cell_type": "code",
   "execution_count": null,
   "metadata": {},
   "outputs": [],
   "source": [
    "# EXAMPLE 7b: Square the list\n",
    "\n",
    "old = [5, 3, 8, 20, 17, 20, 64]\n",
    "new = [x**2 for x in old]\n",
    "print(new)\n",
    "\n",
    "#\n",
    "# And let's say you wanted to find the sum of the squares of elements in old.  \n",
    "# Can we do THAT in one line?\n",
    "#\n",
    "\n",
    "\n"
   ]
  },
  {
   "cell_type": "markdown",
   "metadata": {},
   "source": [
    "<br><br><br><br><br><br><br><br><br><br>\n",
    "\n",
    "\n",
    "### * We can also use list comprehensions together with *filters*."
   ]
  },
  {
   "cell_type": "code",
   "execution_count": null,
   "metadata": {},
   "outputs": [],
   "source": [
    "LIST COMPREHENSION WITH FILTER SYNTAX:\n",
    "    \n",
    "<list name> = [<operation on item> for <item> in <list> if <condition on item>]"
   ]
  },
  {
   "cell_type": "markdown",
   "metadata": {},
   "source": [
    "### * Only adds elements for `<item>`s which satisfy the `<condition>`.  \n",
    "\n",
    "### * Let's get a list of squares of only odd elements."
   ]
  },
  {
   "cell_type": "code",
   "execution_count": null,
   "metadata": {},
   "outputs": [],
   "source": [
    "# EXAMPLE 7c: Square the odd elements in the list\n",
    "\n",
    "old = [5, 3, 8, 20, 17, 20, 64]\n",
    "new = ###??????\n",
    "print(new)"
   ]
  },
  {
   "cell_type": "markdown",
   "metadata": {},
   "source": [
    "### There are many examples where list comprehension can be used, here are some of my favorites."
   ]
  },
  {
   "cell_type": "code",
   "execution_count": 2,
   "metadata": {},
   "outputs": [
    {
     "name": "stdout",
     "output_type": "stream",
     "text": [
      "[[1, 4, 7], [2, 5, 8], [3, 6, 9]]\n"
     ]
    }
   ],
   "source": [
    "# Example 7d: Transposing a 2d list\n",
    "mat = [[1, 2, 3],\n",
    "    [4, 5, 6],\n",
    "    [7, 8, 9]]\n",
    "\n",
    "transmat = [[row[i] for row in mat] for i in [0, 1, 2]]\n",
    "print(transmat)\n",
    "\n",
    "# Example 7e: Flatten a 2d list\n",
    "\n",
    "flat = [x for row in mat for x in row]\n"
   ]
  },
  {
   "cell_type": "code",
   "execution_count": null,
   "metadata": {},
   "outputs": [],
   "source": []
  }
 ],
 "metadata": {
  "kernelspec": {
   "display_name": "Python 3 (ipykernel)",
   "language": "python",
   "name": "python3"
  },
  "language_info": {
   "codemirror_mode": {
    "name": "ipython",
    "version": 3
   },
   "file_extension": ".py",
   "mimetype": "text/x-python",
   "name": "python",
   "nbconvert_exporter": "python",
   "pygments_lexer": "ipython3",
   "version": "3.11.5"
  },
  "name": "_merged_merged"
 },
 "nbformat": 4,
 "nbformat_minor": 4
}
